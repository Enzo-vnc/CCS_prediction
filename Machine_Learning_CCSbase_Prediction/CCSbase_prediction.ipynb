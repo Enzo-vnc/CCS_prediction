{
 "cells": [
  {
   "cell_type": "markdown",
   "id": "6f203882-c9a3-409b-a134-c53a48147ddd",
   "metadata": {},
   "source": [
    "# 1. Data base cleaning "
   ]
  },
  {
   "cell_type": "code",
   "execution_count": null,
   "id": "c8364153-9376-4cd0-890c-b53e9efb6354",
   "metadata": {},
   "outputs": [],
   "source": []
  }
 ],
 "metadata": {
  "kernelspec": {
   "display_name": "Python 3 (ipykernel)",
   "language": "python",
   "name": "python3"
  },
  "language_info": {
   "codemirror_mode": {
    "name": "ipython",
    "version": 3
   },
   "file_extension": ".py",
   "mimetype": "text/x-python",
   "name": "python",
   "nbconvert_exporter": "python",
   "pygments_lexer": "ipython3",
   "version": "3.11.7"
  }
 },
 "nbformat": 4,
 "nbformat_minor": 5
}
